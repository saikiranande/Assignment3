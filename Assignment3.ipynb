{
 "cells": [
  {
   "cell_type": "markdown",
   "id": "0751bb65",
   "metadata": {},
   "source": [
    "Q1``Write a Python function to sum all the numbers in a list.\n",
    "\n",
    "Sample List : (8, 2, 3, 0, 7)\n",
    "\n",
    "Expected Output : 20``"
   ]
  },
  {
   "cell_type": "code",
   "execution_count": 6,
   "id": "24ba9b1c",
   "metadata": {},
   "outputs": [
    {
     "name": "stdout",
     "output_type": "stream",
     "text": [
      "20\n"
     ]
    }
   ],
   "source": [
    "def summation(*args):\n",
    "    return sum(args)\n",
    "print(summation(8,2,3,0,7))"
   ]
  },
  {
   "cell_type": "code",
   "execution_count": 10,
   "id": "63dc3467",
   "metadata": {},
   "outputs": [
    {
     "name": "stdout",
     "output_type": "stream",
     "text": [
      "20\n"
     ]
    }
   ],
   "source": [
    "def summation(num):\n",
    "    total=0\n",
    "    for i in num:\n",
    "        total += i\n",
    "        return total\n",
    "print(sum((8,2,3,0,7)))"
   ]
  },
  {
   "cell_type": "code",
   "execution_count": null,
   "id": "c59f4898",
   "metadata": {},
   "outputs": [],
   "source": []
  },
  {
   "cell_type": "markdown",
   "id": "a84a6dd0",
   "metadata": {},
   "source": [
    "Q2``Write a Python program to reverse a string.\n",
    "\n",
    "Sample String : \"1234abcd\"\n",
    "\n",
    "Expected Output : \"dcba4321\"``"
   ]
  },
  {
   "cell_type": "code",
   "execution_count": 21,
   "id": "0a812f6a",
   "metadata": {},
   "outputs": [
    {
     "name": "stdout",
     "output_type": "stream",
     "text": [
      "original is :  1234abcd\n",
      "reversal is :  dcba4321\n"
     ]
    }
   ],
   "source": [
    "def reverse_string(str):\n",
    "    string=\"\"\n",
    "    for i in str:\n",
    "        string = i + string\n",
    "    return string\n",
    "str = \"1234abcd\"\n",
    "print(\"original is : \",str)\n",
    "print(\"reversal is : \",reverse_string(str))"
   ]
  },
  {
   "cell_type": "code",
   "execution_count": null,
   "id": "a1119860",
   "metadata": {},
   "outputs": [],
   "source": []
  },
  {
   "cell_type": "markdown",
   "id": "f7767a0f",
   "metadata": {},
   "source": [
    "Q3``Write a Python function that accepts a string and calculate the number of upper case letters and lower case letters.\n",
    "\n",
    "Sample String : 'The quick Brow Fox'\n",
    "\n",
    "Expected Output :\n",
    "\n",
    "No. of Upper case characters : 3\n",
    "\n",
    "No. of Lower case Characters : 12``"
   ]
  },
  {
   "cell_type": "code",
   "execution_count": 30,
   "id": "fcf2eeea",
   "metadata": {},
   "outputs": [
    {
     "name": "stdout",
     "output_type": "stream",
     "text": [
      "The quick Brown Fox\n",
      "No of Upper case characters :  3\n",
      "No of Lower case Characters :  13\n"
     ]
    }
   ],
   "source": [
    "def string(s):\n",
    "    d={\"UPPER_CASE\":0, \"LOWER_CASE\":0}\n",
    "    for c in s:\n",
    "        if c.isupper():\n",
    "            d[\"UPPER_CASE\"]+=1\n",
    "        elif c.islower():\n",
    "            d[\"LOWER_CASE\"]+=1\n",
    "        else:\n",
    "            pass\n",
    "\n",
    "    print (s)\n",
    "    print (\"No of Upper case characters : \", d[\"UPPER_CASE\"])\n",
    "    print (\"No of Lower case Characters : \", d[\"LOWER_CASE\"])\n",
    "\n",
    "string_test('The quick Brown Fox')"
   ]
  },
  {
   "cell_type": "code",
   "execution_count": null,
   "id": "6413af1b",
   "metadata": {},
   "outputs": [],
   "source": []
  }
 ],
 "metadata": {
  "kernelspec": {
   "display_name": "Python 3 (ipykernel)",
   "language": "python",
   "name": "python3"
  },
  "language_info": {
   "codemirror_mode": {
    "name": "ipython",
    "version": 3
   },
   "file_extension": ".py",
   "mimetype": "text/x-python",
   "name": "python",
   "nbconvert_exporter": "python",
   "pygments_lexer": "ipython3",
   "version": "3.9.7"
  }
 },
 "nbformat": 4,
 "nbformat_minor": 5
}
